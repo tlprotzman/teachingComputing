{
 "cells": [
  {
   "cell_type": "markdown",
   "metadata": {},
   "source": [
    "# Intro to Remote Computing"
   ]
  },
  {
   "cell_type": "markdown",
   "metadata": {},
   "source": [
    "## The terminal\n",
    "* Used for file manipulating, text editing, and a lot of other stuff too\n",
    "* A lot of basic commands exist, most take the form of [command] [arguments]\n",
    "* Running commans is done by typing the command, arguments, and hitting enter\n",
    "* Here are a lot of the common ones   "
   ]
  },
  {
   "cell_type": "markdown",
   "metadata": {
    "collapsed": true
   },
   "source": [
    "## pwd\n",
    "* Print Working Directory\n",
    "    * Shows the current directory you are in\n",
    "        * `pwd`\n",
    "        * `/home/protzt/documents`\n",
    "    * This means we are in the directory `documents`, which has parent directory `protzt`"
   ]
  },
  {
   "cell_type": "markdown",
   "metadata": {},
   "source": [
    "## cd\n",
    "* This allows us to move around directories\n",
    "* Using the same files system as above, we can execute the following:\n",
    "    * `pwd`\n",
    "    * `/home/protzt`\n",
    "    * `cd documents`\n",
    "    * `pwd` \n",
    "    * `/home/protzt/documents`\n",
    "    * `cd ..`\n",
    "    * `pwd`\n",
    "    * `/home/protzt`\n",
    "* Some other nice tricks to know include `cd ~`, which takes you to your home directory, as well as chaining directories in your arguments such as `cd /home/protzt/documents/python` which would take you straight there"
   ]
  },
  {
   "cell_type": "markdown",
   "metadata": {},
   "source": [
    "## mv\n",
    "* Moves files around\n",
    "    * `mv [target] [destination]`\n",
    "        * `target` is the file or directory you want to move\n",
    "        * `destination` is where you want to move the file or directory to\n",
    "* Also how you rename files\n",
    "* Careful, can overwrite files which deletes the original"
   ]
  },
  {
   "cell_type": "markdown",
   "metadata": {},
   "source": [
    "## cp\n",
    "* Copies a file or folder\n",
    "    * `cp [target] [destination]`\n",
    "* Also can overwrite files, careful"
   ]
  },
  {
   "cell_type": "markdown",
   "metadata": {},
   "source": [
    "## rm\n",
    "* Deletes files\n",
    "    * `rm [target]`\n",
    "* Careful, no nice or guarenteed way to undo"
   ]
  },
  {
   "cell_type": "markdown",
   "metadata": {},
   "source": [
    "## ls\n",
    "* Lists the files in the current directory\n",
    "* I prefer to run `ls -ltrh`\n",
    "    * `-l` means it prints out more information about each item\n",
    "    * `-t` sorts the results by time\n",
    "    * `-r` reverses the order so that the most recently edited files are at the bottom\n",
    "    * `-h` changes the files sizes from bytes to a more readable format\n",
    "* Another useful option is `-a`, which lists all files, including hidden files (files that start with an `.`"
   ]
  },
  {
   "cell_type": "markdown",
   "metadata": {},
   "source": [
    "## man\n",
    "* Arguably the most important command\n",
    "* `man [command]` will bring up a page with tons of information about most commands\n",
    "* `q` to quit it"
   ]
  },
  {
   "cell_type": "markdown",
   "metadata": {},
   "source": [
    "## less\n",
    "* Lists the content of a file\n",
    "    * `less [file]`\n",
    "* `q` quits it\n",
    "* `/[search string]` will search the document\n",
    "* Lots of other options, worth reading the man page for"
   ]
  },
  {
   "cell_type": "markdown",
   "metadata": {},
   "source": [
    "## nano\n",
    "* Basic text editor\n",
    "    * `nano [file]` opens the editor for that file\n",
    "* `control + x` exits it, follow the prompts to save"
   ]
  },
  {
   "cell_type": "markdown",
   "metadata": {},
   "source": [
    "## ssh\n",
    "* Allows you to log in to another networked computer you have an account on\n",
    "    * `ssh [username]@[computer address]`"
   ]
  },
  {
   "cell_type": "markdown",
   "metadata": {},
   "source": [
    "## scp\n",
    "* Copies files over the network\n",
    "* Can copy to any computer you have an account on\n",
    "    * Copies from your computer to a remote computer\n",
    "        * `scp [target] [computer]:[destination]`\n",
    "    * Copies from a remote computer to your computer\n",
    "        * `scp [computer]:[target] [destination]`\n",
    "    * `[computer]` is the same argument you would use to `ssh` into it\n",
    "    "
   ]
  }
 ],
 "metadata": {
  "kernelspec": {
   "display_name": "Python 3",
   "language": "python",
   "name": "python3"
  },
  "language_info": {
   "codemirror_mode": {
    "name": "ipython",
    "version": 3
   },
   "file_extension": ".py",
   "mimetype": "text/x-python",
   "name": "python",
   "nbconvert_exporter": "python",
   "pygments_lexer": "ipython3",
   "version": "3.6.0"
  }
 },
 "nbformat": 4,
 "nbformat_minor": 2
}
