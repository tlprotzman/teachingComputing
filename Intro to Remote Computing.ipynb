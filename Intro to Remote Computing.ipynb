{
 "cells": [
  {
   "cell_type": "markdown",
   "metadata": {},
   "source": [
    "# Intro to Remote Computing"
   ]
  },
  {
   "cell_type": "markdown",
   "metadata": {},
   "source": [
    "## The terminal\n",
    "* Used for file manipulating, text editing, and a lot of other stuff too\n",
    "* A lot of basic commands exist, most take the form of [command] [arguments]\n",
    "* Here are a lot of the common ones\n",
    "### pwd\n",
    "* Print Working Directory\n",
    "    * Shows the current directory you are in\n",
    "        * `pwd`\n",
    "        * `/home/protzt/documents`\n",
    "    * This means we are in the directory `documents`, which has parent directory `protzt`"
   ]
  },
  {
   "cell_type": "code",
   "execution_count": null,
   "metadata": {
    "collapsed": true
   },
   "outputs": [],
   "source": []
  }
 ],
 "metadata": {
  "kernelspec": {
   "display_name": "Python 3",
   "language": "python",
   "name": "python3"
  },
  "language_info": {
   "codemirror_mode": {
    "name": "ipython",
    "version": 3
   },
   "file_extension": ".py",
   "mimetype": "text/x-python",
   "name": "python",
   "nbconvert_exporter": "python",
   "pygments_lexer": "ipython3",
   "version": "3.6.0"
  }
 },
 "nbformat": 4,
 "nbformat_minor": 2
}
